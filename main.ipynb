{
 "cells": [
  {
   "cell_type": "code",
   "execution_count": 19,
   "metadata": {},
   "outputs": [],
   "source": [
    "import sympy\n",
    "from sympy.physics.control.lti import TransferFunction\n",
    "import functools "
   ]
  },
  {
   "cell_type": "markdown",
   "metadata": {},
   "source": [
    "# Planteo del modelo\n",
    "## Ecuaciones\n",
    "Sean \n",
    "\n",
    "$\\rarr$ x1: temperatura actual del sistema\n",
    "\n",
    "$\\rarr$ x2: Temperatura del resistor\n",
    "\n"
   ]
  },
  {
   "cell_type": "code",
   "execution_count": 15,
   "metadata": {},
   "outputs": [],
   "source": [
    "from sympy.abc import s # Laplace var \n",
    "a,b,c,d,e= sympy.symbols(\"a,b,c,d,e\") # State space var \n",
    "\n",
    "A = sympy.Matrix([[a,b],[c,d]])\n",
    "B = sympy.Matrix([[0],[e]])\n",
    "C = sympy.Matrix([1,0]).T"
   ]
  },
  {
   "cell_type": "markdown",
   "metadata": {},
   "source": [
    "### Matriz dinámica"
   ]
  },
  {
   "cell_type": "code",
   "execution_count": 7,
   "metadata": {},
   "outputs": [
    {
     "data": {
      "text/latex": [
       "$\\displaystyle \\left[\\begin{matrix}a & b\\\\c & d\\end{matrix}\\right]$"
      ],
      "text/plain": [
       "Matrix([\n",
       "[a, b],\n",
       "[c, d]])"
      ]
     },
     "execution_count": 7,
     "metadata": {},
     "output_type": "execute_result"
    }
   ],
   "source": [
    "A"
   ]
  },
  {
   "cell_type": "markdown",
   "metadata": {},
   "source": [
    "### Matriz de control"
   ]
  },
  {
   "cell_type": "code",
   "execution_count": 8,
   "metadata": {},
   "outputs": [
    {
     "data": {
      "text/latex": [
       "$\\displaystyle \\left[\\begin{matrix}0\\\\e\\end{matrix}\\right]$"
      ],
      "text/plain": [
       "Matrix([\n",
       "[0],\n",
       "[e]])"
      ]
     },
     "execution_count": 8,
     "metadata": {},
     "output_type": "execute_result"
    }
   ],
   "source": [
    "B"
   ]
  },
  {
   "cell_type": "markdown",
   "metadata": {},
   "source": [
    "### Matriz de salida"
   ]
  },
  {
   "cell_type": "code",
   "execution_count": 9,
   "metadata": {},
   "outputs": [
    {
     "data": {
      "text/latex": [
       "$\\displaystyle \\left[\\begin{matrix}1 & 0\\end{matrix}\\right]$"
      ],
      "text/plain": [
       "Matrix([[1, 0]])"
      ]
     },
     "execution_count": 9,
     "metadata": {},
     "output_type": "execute_result"
    }
   ],
   "source": [
    "C"
   ]
  },
  {
   "cell_type": "markdown",
   "metadata": {},
   "source": [
    "## Funcion de transferencia\n",
    "\n",
    "El calculo de la funcion de transferencia se hace a través de la formula:\n",
    "\n",
    "\n",
    "$$\n",
    " H(s) = C{(sI - A)^{-1}}B + D\n",
    "$$\n"
   ]
  },
  {
   "cell_type": "code",
   "execution_count": 17,
   "metadata": {},
   "outputs": [
    {
     "data": {
      "text/latex": [
       "$\\displaystyle \\frac{b e}{a d - a s - b c - d s + s^{2}}$"
      ],
      "text/plain": [
       "TransferFunction(b*e, a*d - a*s - b*c - d*s + s**2, s)"
      ]
     },
     "execution_count": 17,
     "metadata": {},
     "output_type": "execute_result"
    }
   ],
   "source": [
    "temp = s * sympy.eye(A.shape[0]) - A # sI - A\n",
    "inv = temp.inv()                  # (sI - A)^-1\n",
    "temp = C * inv                  # C * (sI - A)^-1\n",
    "H = temp * B                   # C * (sI - A)^-1 * B\n",
    "transfer_function = H[0]      # Extract the result\n",
    "\n",
    "n,d = sympy.fraction(sympy.factor(transfer_function)) # Factorize (factor) and extract numerator and denominator (fraction)\n",
    "tf_expr = n/d   ##This is useful for jordan form\n",
    "\n",
    "tf = TransferFunction(n,d,s)    # Create a transfer function object, which can be used for further analysis\n",
    "tf"
   ]
  },
  {
   "cell_type": "markdown",
   "metadata": {},
   "source": [
    "## Formas canonicas\n",
    "\n",
    "Para el calculo de las formas canonicas, primero se preparan los datos para su facil manipulacion luego"
   ]
  },
  {
   "cell_type": "code",
   "execution_count": 24,
   "metadata": {},
   "outputs": [],
   "source": [
    "den_args_str = [str(x) for x in d.args] # Extract terms from denominator\n",
    "pow2 = [x for x in den_args_str if \"s**2\" in x] # Terms that have s ^ 2\n",
    "pow1 = [x for x in den_args_str if \"*s\" in x and x not in pow2] # Terms that have s ^ 1\n",
    "tail_terms = [x for x in den_args_str if x not in pow1 and x not in pow2] # Terms without s\n",
    "\n",
    "\n",
    "pow1_expr =sympy.factor(sympy.parse_expr(functools.reduce(lambda a,b: a + b, pow1), evaluate=False)) # Join the terms\n",
    "tail_terms_expr = sympy.factor(sympy.parse_expr(functools.reduce(lambda a,b: a + b, tail_terms), evaluate=False)) # Join the terms\n",
    "\n",
    "\n",
    "def sanitize_expr_str(e):\n",
    "    \"\"\"\n",
    "    Delete the s^2 and s^1 from the expression\n",
    "    \"\"\"\n",
    "    start = e.find(\"s\")\n",
    "    if start == -1:\n",
    "        return e \n",
    "    return e.replace(e[start:start+2:1], \"\")\n",
    "\n",
    "# Find the coefficients a_0 and a_1\n",
    "a_0 = sympy.parse_expr(sanitize_expr_str(str(tail_terms_expr)), evaluate=False)\n",
    "a_1 =sympy.parse_expr(sanitize_expr_str(str(pow1_expr)), evaluate=False)\n",
    "\n"
   ]
  },
  {
   "cell_type": "markdown",
   "metadata": {},
   "source": [
    "### Forma de control"
   ]
  },
  {
   "cell_type": "code",
   "execution_count": 21,
   "metadata": {},
   "outputs": [],
   "source": [
    "A_ctrl = sympy.Matrix([[0,1], [a_0, a_1]])\n",
    "B_ctrl = sympy.Matrix([[0], [1]])\n",
    "C_ctrl = sympy.Matrix([n,0]).T"
   ]
  },
  {
   "cell_type": "code",
   "execution_count": 22,
   "metadata": {},
   "outputs": [
    {
     "data": {
      "text/latex": [
       "$\\displaystyle \\left[\\begin{matrix}0 & 1\\\\a d - b c & - a - d\\end{matrix}\\right]$"
      ],
      "text/plain": [
       "Matrix([\n",
       "[        0,      1],\n",
       "[a*d - b*c, -a - d]])"
      ]
     },
     "execution_count": 22,
     "metadata": {},
     "output_type": "execute_result"
    }
   ],
   "source": [
    "A_ctrl"
   ]
  },
  {
   "cell_type": "code",
   "execution_count": 23,
   "metadata": {},
   "outputs": [
    {
     "data": {
      "text/latex": [
       "$\\displaystyle \\left[\\begin{matrix}0\\\\1\\end{matrix}\\right]$"
      ],
      "text/plain": [
       "Matrix([\n",
       "[0],\n",
       "[1]])"
      ]
     },
     "execution_count": 23,
     "metadata": {},
     "output_type": "execute_result"
    }
   ],
   "source": [
    "B_ctrl"
   ]
  },
  {
   "cell_type": "code",
   "execution_count": 24,
   "metadata": {},
   "outputs": [
    {
     "data": {
      "text/latex": [
       "$\\displaystyle \\left[\\begin{matrix}b & 0\\end{matrix}\\right]$"
      ],
      "text/plain": [
       "Matrix([[b, 0]])"
      ]
     },
     "execution_count": 24,
     "metadata": {},
     "output_type": "execute_result"
    }
   ],
   "source": [
    "C_ctrl"
   ]
  },
  {
   "cell_type": "markdown",
   "metadata": {},
   "source": [
    "## Forma observable\n",
    "Transponemos el A de control e intercambiamos B y C de control"
   ]
  },
  {
   "cell_type": "code",
   "execution_count": 25,
   "metadata": {},
   "outputs": [],
   "source": [
    "\n",
    "import copy\n",
    "\n",
    "A_obs = copy.deepcopy(A_ctrl).T\n",
    "B_obs = copy.deepcopy(C_ctrl)\n",
    "C_obs = copy.deepcopy(B_ctrl).T\n"
   ]
  },
  {
   "cell_type": "code",
   "execution_count": 26,
   "metadata": {},
   "outputs": [
    {
     "data": {
      "text/latex": [
       "$\\displaystyle \\left[\\begin{matrix}0 & a d - b c\\\\1 & - a - d\\end{matrix}\\right]$"
      ],
      "text/plain": [
       "Matrix([\n",
       "[0, a*d - b*c],\n",
       "[1,    -a - d]])"
      ]
     },
     "execution_count": 26,
     "metadata": {},
     "output_type": "execute_result"
    }
   ],
   "source": [
    "A_obs"
   ]
  },
  {
   "cell_type": "code",
   "execution_count": 27,
   "metadata": {},
   "outputs": [
    {
     "data": {
      "text/latex": [
       "$\\displaystyle \\left[\\begin{matrix}b & 0\\end{matrix}\\right]$"
      ],
      "text/plain": [
       "Matrix([[b, 0]])"
      ]
     },
     "execution_count": 27,
     "metadata": {},
     "output_type": "execute_result"
    }
   ],
   "source": [
    "B_obs"
   ]
  },
  {
   "cell_type": "code",
   "execution_count": 28,
   "metadata": {},
   "outputs": [
    {
     "data": {
      "text/latex": [
       "$\\displaystyle \\left[\\begin{matrix}0 & 1\\end{matrix}\\right]$"
      ],
      "text/plain": [
       "Matrix([[0, 1]])"
      ]
     },
     "execution_count": 28,
     "metadata": {},
     "output_type": "execute_result"
    }
   ],
   "source": [
    "C_obs"
   ]
  },
  {
   "cell_type": "code",
   "execution_count": 30,
   "metadata": {},
   "outputs": [
    {
     "data": {
      "text/plain": [
       "[a/2 + d/2 - sqrt(a**2 - 2*a*d + 4*b*c + d**2)/2,\n",
       " a/2 + d/2 + sqrt(a**2 - 2*a*d + 4*b*c + d**2)/2]"
      ]
     },
     "execution_count": 30,
     "metadata": {},
     "output_type": "execute_result"
    }
   ],
   "source": [
    "tf_poles = tf.poles()\n"
   ]
  },
  {
   "cell_type": "code",
   "execution_count": 31,
   "metadata": {},
   "outputs": [
    {
     "data": {
      "text/latex": [
       "$\\displaystyle \\frac{a}{2} + \\frac{d}{2} - \\frac{\\sqrt{a^{2} - 2 a d + 4 b c + d^{2}}}{2}$"
      ],
      "text/plain": [
       "a/2 + d/2 - sqrt(a**2 - 2*a*d + 4*b*c + d**2)/2"
      ]
     },
     "execution_count": 31,
     "metadata": {},
     "output_type": "execute_result"
    }
   ],
   "source": [
    "tf_poles[0]\n"
   ]
  },
  {
   "cell_type": "code",
   "execution_count": 32,
   "metadata": {},
   "outputs": [
    {
     "data": {
      "text/latex": [
       "$\\displaystyle \\frac{a}{2} + \\frac{d}{2} + \\frac{\\sqrt{a^{2} - 2 a d + 4 b c + d^{2}}}{2}$"
      ],
      "text/plain": [
       "a/2 + d/2 + sqrt(a**2 - 2*a*d + 4*b*c + d**2)/2"
      ]
     },
     "execution_count": 32,
     "metadata": {},
     "output_type": "execute_result"
    }
   ],
   "source": [
    "tf_poles[1]\n"
   ]
  },
  {
   "cell_type": "markdown",
   "metadata": {},
   "source": [
    "## Forma de Jordan"
   ]
  },
  {
   "cell_type": "code",
   "execution_count": 34,
   "metadata": {},
   "outputs": [
    {
     "data": {
      "text/latex": [
       "$\\displaystyle \\left[\\begin{matrix}\\frac{a}{2} + \\frac{d}{2} - \\frac{\\sqrt{a^{2} - 2 a d + 4 b c + d^{2}}}{2} & 0\\\\0 & \\frac{a}{2} + \\frac{d}{2} + \\frac{\\sqrt{a^{2} - 2 a d + 4 b c + d^{2}}}{2}\\end{matrix}\\right]$"
      ],
      "text/plain": [
       "Matrix([\n",
       "[a/2 + d/2 - sqrt(a**2 - 2*a*d + 4*b*c + d**2)/2,                                               0],\n",
       "[                                              0, a/2 + d/2 + sqrt(a**2 - 2*a*d + 4*b*c + d**2)/2]])"
      ]
     },
     "execution_count": 34,
     "metadata": {},
     "output_type": "execute_result"
    }
   ],
   "source": [
    "## Para esta forma de jordan, vamos a asumir que hay todos polos reales y distintos \n",
    "## A la hora de definir valores para todos los parametros, podemos concluir\n",
    "## si hace falta modificarlo \n",
    "A_jordan = sympy.Matrix([[tf_poles[0], 0], [0,tf_poles[1]]])\n",
    "A_jordan"
   ]
  },
  {
   "cell_type": "code",
   "execution_count": 54,
   "metadata": {},
   "outputs": [
    {
     "data": {
      "text/latex": [
       "$\\displaystyle \\left[\\begin{matrix}1\\\\1\\end{matrix}\\right]$"
      ],
      "text/plain": [
       "Matrix([\n",
       "[1],\n",
       "[1]])"
      ]
     },
     "execution_count": 54,
     "metadata": {},
     "output_type": "execute_result"
    }
   ],
   "source": [
    "B_jordan = sympy.ones(len(tf_poles),1)\n",
    "B_jordan"
   ]
  },
  {
   "cell_type": "code",
   "execution_count": 50,
   "metadata": {},
   "outputs": [
    {
     "data": {
      "text/plain": [
       "[-b/sqrt(a**2 - 2*a*d + 4*b*c + d**2), b/sqrt(a**2 - 2*a*d + 4*b*c + d**2)]"
      ]
     },
     "execution_count": 50,
     "metadata": {},
     "output_type": "execute_result"
    }
   ],
   "source": [
    "#residue calcula el residuo de las fracciones parciales para la funcion\n",
    "#de transferencia\n",
    "C_jordan = [sympy.residue(tf_expr, s, tf_poles[0]), sympy.residue(tf_expr, s, tf_poles[1])]\n",
    "C_jordan"
   ]
  }
 ],
 "metadata": {
  "kernelspec": {
   "display_name": "Python 3",
   "language": "python",
   "name": "python3"
  },
  "language_info": {
   "codemirror_mode": {
    "name": "ipython",
    "version": 3
   },
   "file_extension": ".py",
   "mimetype": "text/x-python",
   "name": "python",
   "nbconvert_exporter": "python",
   "pygments_lexer": "ipython3",
   "version": "3.11.5"
  },
  "orig_nbformat": 4
 },
 "nbformat": 4,
 "nbformat_minor": 2
}

{
 "cells": [
  {
   "cell_type": "markdown",
   "metadata": {},
   "source": [
    "# Integrador - Teoria de control"
   ]
  },
  {
   "cell_type": "code",
   "execution_count": 664,
   "metadata": {},
   "outputs": [],
   "source": [
    "import sympy\n",
    "from sympy.physics.control.lti import TransferFunction\n",
    "import functools \n",
    "import copy\n",
    "import numpy as np\n",
    "from matplotlib import pyplot as plt"
   ]
  },
  {
   "cell_type": "markdown",
   "metadata": {},
   "source": [
    "# Planteo del modelo\n",
    "## Ecuaciones\n",
    "Sean \n",
    "\n",
    "$\\rarr$ x1: temperatura actual del sistema\n",
    "\n",
    "$\\rarr$ x2: Temperatura del resistor\n",
    "\n"
   ]
  },
  {
   "cell_type": "code",
   "execution_count": 665,
   "metadata": {},
   "outputs": [],
   "source": [
    "from sympy.abc import s # Laplace var \n",
    "a,b,c,d,e= sympy.symbols(\"a,b,c,d,e\") # State space var\n",
    "\n",
    "A = sympy.Matrix([[a,b],[c,d]])\n",
    "B = sympy.Matrix([[0],[e]])\n",
    "C = sympy.Matrix([1,0]).T"
   ]
  },
  {
   "cell_type": "markdown",
   "metadata": {},
   "source": [
    "### Matriz dinámica"
   ]
  },
  {
   "cell_type": "code",
   "execution_count": 666,
   "metadata": {},
   "outputs": [
    {
     "data": {
      "text/latex": [
       "$\\displaystyle \\left[\\begin{matrix}a & b\\\\c & d\\end{matrix}\\right]$"
      ],
      "text/plain": [
       "Matrix([\n",
       "[a, b],\n",
       "[c, d]])"
      ]
     },
     "execution_count": 666,
     "metadata": {},
     "output_type": "execute_result"
    }
   ],
   "source": [
    "A"
   ]
  },
  {
   "cell_type": "markdown",
   "metadata": {},
   "source": [
    "### Matriz de control"
   ]
  },
  {
   "cell_type": "code",
   "execution_count": 667,
   "metadata": {},
   "outputs": [
    {
     "data": {
      "text/latex": [
       "$\\displaystyle \\left[\\begin{matrix}0\\\\e\\end{matrix}\\right]$"
      ],
      "text/plain": [
       "Matrix([\n",
       "[0],\n",
       "[e]])"
      ]
     },
     "execution_count": 667,
     "metadata": {},
     "output_type": "execute_result"
    }
   ],
   "source": [
    "B"
   ]
  },
  {
   "cell_type": "markdown",
   "metadata": {},
   "source": [
    "### Matriz de salida"
   ]
  },
  {
   "cell_type": "code",
   "execution_count": 668,
   "metadata": {},
   "outputs": [
    {
     "data": {
      "text/latex": [
       "$\\displaystyle \\left[\\begin{matrix}1 & 0\\end{matrix}\\right]$"
      ],
      "text/plain": [
       "Matrix([[1, 0]])"
      ]
     },
     "execution_count": 668,
     "metadata": {},
     "output_type": "execute_result"
    }
   ],
   "source": [
    "C"
   ]
  },
  {
   "cell_type": "markdown",
   "metadata": {},
   "source": [
    "## Funcion de transferencia\n",
    "\n",
    "El calculo de la funcion de transferencia se hace a través de la formula:\n",
    "\n",
    "\n",
    "$$\n",
    " H(s) = C{(sI - A)^{-1}}B + D\n",
    "$$\n"
   ]
  },
  {
   "cell_type": "code",
   "execution_count": 669,
   "metadata": {},
   "outputs": [
    {
     "data": {
      "text/latex": [
       "$\\displaystyle \\frac{b e}{a d - a s - b c - d s + s^{2}}$"
      ],
      "text/plain": [
       "TransferFunction(b*e, a*d - a*s - b*c - d*s + s**2, s)"
      ]
     },
     "execution_count": 669,
     "metadata": {},
     "output_type": "execute_result"
    }
   ],
   "source": [
    "temp = s * sympy.eye(A.shape[0]) - A # sI - A\n",
    "inv = temp.inv()                  # (sI - A)^-1\n",
    "temp = C * inv                  # C * (sI - A)^-1\n",
    "H = temp * B                   # C * (sI - A)^-1 * B\n",
    "transfer_function = H[0]      # Extract the result\n",
    "\n",
    "num,den = sympy.fraction(sympy.factor(transfer_function)) # Factorize (factor) and extract numerator and denominator (fraction)\n",
    "tf_expr = num/den   ##This is useful for jordan form\n",
    "\n",
    "tf = TransferFunction(num,den,s)    # Create a transfer function object, which can be used for further analysis\n",
    "tf"
   ]
  },
  {
   "cell_type": "markdown",
   "metadata": {},
   "source": [
    "## Formas canonicas\n",
    "\n",
    "Para el calculo de las formas canonicas, primero se preparan los datos para su facil manipulacion luego"
   ]
  },
  {
   "cell_type": "code",
   "execution_count": 670,
   "metadata": {},
   "outputs": [],
   "source": [
    "den_args_str = [str(x) for x in den.args] # Extract terms from denominator\n",
    "pow2 = [x for x in den_args_str if \"s**2\" in x] # Terms that have s ^ 2\n",
    "pow1 = [x for x in den_args_str if \"*s\" in x and x not in pow2] # Terms that have s ^ 1\n",
    "tail_terms = [x for x in den_args_str if x not in pow1 and x not in pow2] # Terms without s\n",
    "\n",
    "pow1_expr =sympy.factor(sympy.parse_expr(functools.reduce(lambda a,b: a + b, pow1), evaluate=False)) # Join the terms\n",
    "tail_terms_expr = sympy.factor(sympy.parse_expr(functools.reduce(lambda a,b: a + b, tail_terms), evaluate=False)) # Join the terms\n",
    "\n",
    "\n",
    "def sanitize_expr_str(e):\n",
    "    \"\"\"\n",
    "    Delete the s^2 and s^1 from the expression\n",
    "    \"\"\"\n",
    "    start = e.find(\"s\")\n",
    "    if start == -1:\n",
    "        return e \n",
    "    return e.replace(e[start:start+2:1], \"\")\n",
    "\n",
    "# Find the coefficients a_0, a_1 and b_1\n",
    "a_0 = sympy.parse_expr(sanitize_expr_str(str(tail_terms_expr)), evaluate=False)\n",
    "a_1 =sympy.parse_expr(sanitize_expr_str(str(pow1_expr)), evaluate=False)\n",
    "b_0 = 0\n",
    "b_1 = num"
   ]
  },
  {
   "cell_type": "markdown",
   "metadata": {},
   "source": [
    "### Forma canonica de control"
   ]
  },
  {
   "cell_type": "code",
   "execution_count": 671,
   "metadata": {},
   "outputs": [],
   "source": [
    "A_ctrl = sympy.Matrix([[0,1], [-a_0, -a_1]])\n",
    "B_ctrl = sympy.Matrix([[0], [1]])\n",
    "C_ctrl = sympy.Matrix([b_1,b_0]).T"
   ]
  },
  {
   "cell_type": "code",
   "execution_count": 672,
   "metadata": {},
   "outputs": [
    {
     "data": {
      "text/latex": [
       "$\\displaystyle \\left[\\begin{matrix}0 & 1\\\\- a d + b c & a + d\\end{matrix}\\right]$"
      ],
      "text/plain": [
       "Matrix([\n",
       "[         0,     1],\n",
       "[-a*d + b*c, a + d]])"
      ]
     },
     "execution_count": 672,
     "metadata": {},
     "output_type": "execute_result"
    }
   ],
   "source": [
    "A_ctrl"
   ]
  },
  {
   "cell_type": "code",
   "execution_count": 673,
   "metadata": {},
   "outputs": [
    {
     "data": {
      "text/latex": [
       "$\\displaystyle \\left[\\begin{matrix}0\\\\1\\end{matrix}\\right]$"
      ],
      "text/plain": [
       "Matrix([\n",
       "[0],\n",
       "[1]])"
      ]
     },
     "execution_count": 673,
     "metadata": {},
     "output_type": "execute_result"
    }
   ],
   "source": [
    "B_ctrl"
   ]
  },
  {
   "cell_type": "code",
   "execution_count": 674,
   "metadata": {},
   "outputs": [
    {
     "data": {
      "text/latex": [
       "$\\displaystyle \\left[\\begin{matrix}b e & 0\\end{matrix}\\right]$"
      ],
      "text/plain": [
       "Matrix([[b*e, 0]])"
      ]
     },
     "execution_count": 674,
     "metadata": {},
     "output_type": "execute_result"
    }
   ],
   "source": [
    "C_ctrl"
   ]
  },
  {
   "cell_type": "markdown",
   "metadata": {},
   "source": [
    "### Forma observable\n",
    "Transponemos A e intercambiamos B y C de la forma canonica de control"
   ]
  },
  {
   "cell_type": "code",
   "execution_count": 675,
   "metadata": {},
   "outputs": [],
   "source": [
    "A_obs = copy.deepcopy(A_ctrl).T\n",
    "B_obs = copy.deepcopy(C_ctrl)\n",
    "C_obs = copy.deepcopy(B_ctrl).T"
   ]
  },
  {
   "cell_type": "code",
   "execution_count": 676,
   "metadata": {},
   "outputs": [
    {
     "data": {
      "text/latex": [
       "$\\displaystyle \\left[\\begin{matrix}0 & - a d + b c\\\\1 & a + d\\end{matrix}\\right]$"
      ],
      "text/plain": [
       "Matrix([\n",
       "[0, -a*d + b*c],\n",
       "[1,      a + d]])"
      ]
     },
     "execution_count": 676,
     "metadata": {},
     "output_type": "execute_result"
    }
   ],
   "source": [
    "A_obs"
   ]
  },
  {
   "cell_type": "code",
   "execution_count": 677,
   "metadata": {},
   "outputs": [
    {
     "data": {
      "text/latex": [
       "$\\displaystyle \\left[\\begin{matrix}b e & 0\\end{matrix}\\right]$"
      ],
      "text/plain": [
       "Matrix([[b*e, 0]])"
      ]
     },
     "execution_count": 677,
     "metadata": {},
     "output_type": "execute_result"
    }
   ],
   "source": [
    "B_obs"
   ]
  },
  {
   "cell_type": "code",
   "execution_count": 678,
   "metadata": {},
   "outputs": [
    {
     "data": {
      "text/latex": [
       "$\\displaystyle \\left[\\begin{matrix}0 & 1\\end{matrix}\\right]$"
      ],
      "text/plain": [
       "Matrix([[0, 1]])"
      ]
     },
     "execution_count": 678,
     "metadata": {},
     "output_type": "execute_result"
    }
   ],
   "source": [
    "C_obs"
   ]
  },
  {
   "cell_type": "markdown",
   "metadata": {},
   "source": [
    "### Forma de Jordan"
   ]
  },
  {
   "cell_type": "code",
   "execution_count": 679,
   "metadata": {},
   "outputs": [],
   "source": [
    "tf_poles = tf.poles()\n"
   ]
  },
  {
   "cell_type": "code",
   "execution_count": 680,
   "metadata": {},
   "outputs": [
    {
     "data": {
      "text/latex": [
       "$\\displaystyle \\frac{a}{2} + \\frac{d}{2} - \\frac{\\sqrt{a^{2} - 2 a d + 4 b c + d^{2}}}{2}$"
      ],
      "text/plain": [
       "a/2 + d/2 - sqrt(a**2 - 2*a*d + 4*b*c + d**2)/2"
      ]
     },
     "execution_count": 680,
     "metadata": {},
     "output_type": "execute_result"
    }
   ],
   "source": [
    "tf_poles[0]\n"
   ]
  },
  {
   "cell_type": "code",
   "execution_count": 681,
   "metadata": {},
   "outputs": [
    {
     "data": {
      "text/latex": [
       "$\\displaystyle \\frac{a}{2} + \\frac{d}{2} + \\frac{\\sqrt{a^{2} - 2 a d + 4 b c + d^{2}}}{2}$"
      ],
      "text/plain": [
       "a/2 + d/2 + sqrt(a**2 - 2*a*d + 4*b*c + d**2)/2"
      ]
     },
     "execution_count": 681,
     "metadata": {},
     "output_type": "execute_result"
    }
   ],
   "source": [
    "tf_poles[1]\n"
   ]
  },
  {
   "cell_type": "markdown",
   "metadata": {},
   "source": [
    "Usando los polos encontrados:"
   ]
  },
  {
   "cell_type": "code",
   "execution_count": 682,
   "metadata": {},
   "outputs": [
    {
     "data": {
      "text/latex": [
       "$\\displaystyle \\left[\\begin{matrix}\\frac{a}{2} + \\frac{d}{2} - \\frac{\\sqrt{a^{2} - 2 a d + 4 b c + d^{2}}}{2} & 0\\\\0 & \\frac{a}{2} + \\frac{d}{2} + \\frac{\\sqrt{a^{2} - 2 a d + 4 b c + d^{2}}}{2}\\end{matrix}\\right]$"
      ],
      "text/plain": [
       "Matrix([\n",
       "[a/2 + d/2 - sqrt(a**2 - 2*a*d + 4*b*c + d**2)/2,                                               0],\n",
       "[                                              0, a/2 + d/2 + sqrt(a**2 - 2*a*d + 4*b*c + d**2)/2]])"
      ]
     },
     "execution_count": 682,
     "metadata": {},
     "output_type": "execute_result"
    }
   ],
   "source": [
    "A_jordan = sympy.Matrix([[tf_poles[0], 0], [0,tf_poles[1]]])\n",
    "A_jordan"
   ]
  },
  {
   "cell_type": "code",
   "execution_count": 683,
   "metadata": {},
   "outputs": [
    {
     "data": {
      "text/latex": [
       "$\\displaystyle \\left[\\begin{matrix}1\\\\1\\end{matrix}\\right]$"
      ],
      "text/plain": [
       "Matrix([\n",
       "[1],\n",
       "[1]])"
      ]
     },
     "execution_count": 683,
     "metadata": {},
     "output_type": "execute_result"
    }
   ],
   "source": [
    "B_jordan = sympy.ones(len(tf_poles),1)\n",
    "B_jordan"
   ]
  },
  {
   "cell_type": "code",
   "execution_count": 684,
   "metadata": {},
   "outputs": [
    {
     "data": {
      "text/latex": [
       "$\\displaystyle \\left[\\begin{matrix}- \\frac{b e}{\\sqrt{a^{2} - 2 a d + 4 b c + d^{2}}} & \\frac{b e}{\\sqrt{a^{2} - 2 a d + 4 b c + d^{2}}}\\end{matrix}\\right]$"
      ],
      "text/plain": [
       "Matrix([[-b*e/sqrt(a**2 - 2*a*d + 4*b*c + d**2), b*e/sqrt(a**2 - 2*a*d + 4*b*c + d**2)]])"
      ]
     },
     "execution_count": 684,
     "metadata": {},
     "output_type": "execute_result"
    }
   ],
   "source": [
    "C_jordan = sympy.Matrix([        # Residue calculates the residue of the expression for a given pole\n",
    "    sympy.residue(tf_expr, s, tf_poles[0]), \n",
    "    sympy.residue(tf_expr, s, tf_poles[1])\n",
    "    ] ).T\n",
    "C_jordan"
   ]
  },
  {
   "cell_type": "markdown",
   "metadata": {},
   "source": [
    "## Asignando valores a los coeficientes\n",
    "En la presente seccion, aplicamos valores a los coeficientes de modo de instanciar el sistema y poder obtener los resultados requeridos\n",
    "\n",
    "Si bien creemos que la generalidad mostrada anteriormente es lo mas imporante del estudio, entendemos que para realizar el analisis es importante instanciar los coeficientes. "
   ]
  },
  {
   "cell_type": "markdown",
   "metadata": {},
   "source": [
    "### Ecuaciones\n",
    "Como se observara, se tiene en cuenta que la inferencia de la temperatura del resistor sobre la tasa de cambio de la misma es nula."
   ]
  },
  {
   "cell_type": "code",
   "execution_count": 685,
   "metadata": {},
   "outputs": [],
   "source": [
    "a_value, b_value, c_value, d_value, e_value =-1,2,0,-2,1\n",
    "# For simplicity, we replace the values in all matrices\n",
    "A = A.subs({a:a_value, b:b_value, c:c_value, d:d_value, e:e_value})\n",
    "B = B.subs({a:a_value, b:b_value, c:c_value, d:d_value, e:e_value})\n",
    "C = C.subs({a:a_value, b:b_value, c:c_value, d:d_value, e:e_value})"
   ]
  },
  {
   "cell_type": "markdown",
   "metadata": {},
   "source": [
    "#### Matriz dinámica"
   ]
  },
  {
   "cell_type": "code",
   "execution_count": 686,
   "metadata": {},
   "outputs": [
    {
     "data": {
      "text/latex": [
       "$\\displaystyle \\left[\\begin{matrix}-1 & 2\\\\0 & -2\\end{matrix}\\right]$"
      ],
      "text/plain": [
       "Matrix([\n",
       "[-1,  2],\n",
       "[ 0, -2]])"
      ]
     },
     "execution_count": 686,
     "metadata": {},
     "output_type": "execute_result"
    }
   ],
   "source": [
    "A"
   ]
  },
  {
   "cell_type": "markdown",
   "metadata": {},
   "source": [
    "#### Matriz de control"
   ]
  },
  {
   "cell_type": "code",
   "execution_count": 687,
   "metadata": {},
   "outputs": [
    {
     "data": {
      "text/latex": [
       "$\\displaystyle \\left[\\begin{matrix}0\\\\1\\end{matrix}\\right]$"
      ],
      "text/plain": [
       "Matrix([\n",
       "[0],\n",
       "[1]])"
      ]
     },
     "execution_count": 687,
     "metadata": {},
     "output_type": "execute_result"
    }
   ],
   "source": [
    "B"
   ]
  },
  {
   "cell_type": "markdown",
   "metadata": {},
   "source": [
    "#### Matriz de salida"
   ]
  },
  {
   "cell_type": "code",
   "execution_count": 688,
   "metadata": {},
   "outputs": [
    {
     "data": {
      "text/latex": [
       "$\\displaystyle \\left[\\begin{matrix}1 & 0\\end{matrix}\\right]$"
      ],
      "text/plain": [
       "Matrix([[1, 0]])"
      ]
     },
     "execution_count": 688,
     "metadata": {},
     "output_type": "execute_result"
    }
   ],
   "source": [
    "C"
   ]
  },
  {
   "cell_type": "markdown",
   "metadata": {},
   "source": [
    "### Funcion de transferencia"
   ]
  },
  {
   "cell_type": "code",
   "execution_count": 689,
   "metadata": {},
   "outputs": [
    {
     "data": {
      "text/latex": [
       "$\\displaystyle \\frac{2.0}{s^{2} + 3.0 s + 2.0}$"
      ],
      "text/plain": [
       "TransferFunction(2.0, s**2 + 3.0*s + 2.0, s)"
      ]
     },
     "execution_count": 689,
     "metadata": {},
     "output_type": "execute_result"
    }
   ],
   "source": [
    "tf = tf.evalf(subs={a:a_value, b:b_value, c:c_value, d:d_value, e:e_value})\n",
    "tf"
   ]
  },
  {
   "cell_type": "code",
   "execution_count": 690,
   "metadata": {},
   "outputs": [
    {
     "data": {
      "text/plain": [
       "[-2.00000000000000, -1.00000000000000]"
      ]
     },
     "execution_count": 690,
     "metadata": {},
     "output_type": "execute_result"
    }
   ],
   "source": [
    "tf.poles()"
   ]
  },
  {
   "cell_type": "markdown",
   "metadata": {},
   "source": [
    "### Formas canonicas"
   ]
  },
  {
   "cell_type": "code",
   "execution_count": 691,
   "metadata": {},
   "outputs": [
    {
     "data": {
      "text/plain": [
       "[2.00000000000000, 3.00000000000000, 2.00000000000000]"
      ]
     },
     "execution_count": 691,
     "metadata": {},
     "output_type": "execute_result"
    }
   ],
   "source": [
    "a_0 = a_0.evalf(subs={a:a_value, b:b_value, c:c_value, d:d_value, e:e_value})\n",
    "a_1 = a_1.evalf(subs={a:a_value, b:b_value, c:c_value, d:d_value, e:e_value})\n",
    "b_1 = b_1.evalf(subs={a:a_value, b:b_value, c:c_value, d:d_value, e:e_value})\n",
    "[a_0, a_1, b_1]"
   ]
  },
  {
   "cell_type": "markdown",
   "metadata": {},
   "source": [
    "#### Forma canonica de control"
   ]
  },
  {
   "cell_type": "code",
   "execution_count": 692,
   "metadata": {},
   "outputs": [],
   "source": [
    "A_ctrl = A_ctrl.subs({a:a_value, b:b_value, c:c_value, d:d_value, e:e_value})\n",
    "B_ctrl = B_ctrl.subs({a:a_value, b:b_value, c:c_value, d:d_value, e:e_value})\n",
    "C_ctrl = C_ctrl.subs({a:a_value, b:b_value, c:c_value, d:d_value, e:e_value})"
   ]
  },
  {
   "cell_type": "code",
   "execution_count": 693,
   "metadata": {},
   "outputs": [
    {
     "data": {
      "text/latex": [
       "$\\displaystyle \\left[\\begin{matrix}0 & 1\\\\-2 & -3\\end{matrix}\\right]$"
      ],
      "text/plain": [
       "Matrix([\n",
       "[ 0,  1],\n",
       "[-2, -3]])"
      ]
     },
     "execution_count": 693,
     "metadata": {},
     "output_type": "execute_result"
    }
   ],
   "source": [
    "A_ctrl"
   ]
  },
  {
   "cell_type": "code",
   "execution_count": 694,
   "metadata": {},
   "outputs": [
    {
     "data": {
      "text/latex": [
       "$\\displaystyle \\left[\\begin{matrix}0\\\\1\\end{matrix}\\right]$"
      ],
      "text/plain": [
       "Matrix([\n",
       "[0],\n",
       "[1]])"
      ]
     },
     "execution_count": 694,
     "metadata": {},
     "output_type": "execute_result"
    }
   ],
   "source": [
    "B_ctrl"
   ]
  },
  {
   "cell_type": "code",
   "execution_count": 695,
   "metadata": {},
   "outputs": [
    {
     "data": {
      "text/latex": [
       "$\\displaystyle \\left[\\begin{matrix}2 & 0\\end{matrix}\\right]$"
      ],
      "text/plain": [
       "Matrix([[2, 0]])"
      ]
     },
     "execution_count": 695,
     "metadata": {},
     "output_type": "execute_result"
    }
   ],
   "source": [
    "C_ctrl"
   ]
  },
  {
   "cell_type": "markdown",
   "metadata": {},
   "source": [
    "#### Forma canonica observable"
   ]
  },
  {
   "cell_type": "code",
   "execution_count": 696,
   "metadata": {},
   "outputs": [],
   "source": [
    "A_obs = A_obs.subs({a:a_value, b:b_value, c:c_value, d:d_value, e:e_value})\n",
    "B_obs = B_obs.subs({a:a_value, b:b_value, c:c_value, d:d_value, e:e_value})\n",
    "C_obs = C_obs.subs({a:a_value, b:b_value, c:c_value, d:d_value, e:e_value})"
   ]
  },
  {
   "cell_type": "code",
   "execution_count": 697,
   "metadata": {},
   "outputs": [
    {
     "data": {
      "text/latex": [
       "$\\displaystyle \\left[\\begin{matrix}0 & -2\\\\1 & -3\\end{matrix}\\right]$"
      ],
      "text/plain": [
       "Matrix([\n",
       "[0, -2],\n",
       "[1, -3]])"
      ]
     },
     "execution_count": 697,
     "metadata": {},
     "output_type": "execute_result"
    }
   ],
   "source": [
    "A_obs"
   ]
  },
  {
   "cell_type": "code",
   "execution_count": 698,
   "metadata": {},
   "outputs": [
    {
     "data": {
      "text/latex": [
       "$\\displaystyle \\left[\\begin{matrix}2 & 0\\end{matrix}\\right]$"
      ],
      "text/plain": [
       "Matrix([[2, 0]])"
      ]
     },
     "execution_count": 698,
     "metadata": {},
     "output_type": "execute_result"
    }
   ],
   "source": [
    "B_obs"
   ]
  },
  {
   "cell_type": "code",
   "execution_count": 699,
   "metadata": {},
   "outputs": [
    {
     "data": {
      "text/latex": [
       "$\\displaystyle \\left[\\begin{matrix}0 & 1\\end{matrix}\\right]$"
      ],
      "text/plain": [
       "Matrix([[0, 1]])"
      ]
     },
     "execution_count": 699,
     "metadata": {},
     "output_type": "execute_result"
    }
   ],
   "source": [
    "C_obs"
   ]
  },
  {
   "cell_type": "markdown",
   "metadata": {},
   "source": [
    "#### Forma canonica de Jordan"
   ]
  },
  {
   "cell_type": "code",
   "execution_count": 700,
   "metadata": {},
   "outputs": [],
   "source": [
    "A_jordan = A_jordan.subs({a:a_value, b:b_value, c:c_value, d:d_value, e:e_value})\n",
    "B_jordan = B_jordan.subs({a:a_value, b:b_value, c:c_value, d:d_value, e:e_value})\n",
    "C_jordan = C_jordan.subs({a:a_value, b:b_value, c:c_value, d:d_value, e:e_value})"
   ]
  },
  {
   "cell_type": "code",
   "execution_count": 701,
   "metadata": {},
   "outputs": [
    {
     "data": {
      "text/latex": [
       "$\\displaystyle \\left[\\begin{matrix}-2 & 0\\\\0 & -1\\end{matrix}\\right]$"
      ],
      "text/plain": [
       "Matrix([\n",
       "[-2,  0],\n",
       "[ 0, -1]])"
      ]
     },
     "execution_count": 701,
     "metadata": {},
     "output_type": "execute_result"
    }
   ],
   "source": [
    "A_jordan"
   ]
  },
  {
   "cell_type": "code",
   "execution_count": 702,
   "metadata": {},
   "outputs": [
    {
     "data": {
      "text/latex": [
       "$\\displaystyle \\left[\\begin{matrix}1\\\\1\\end{matrix}\\right]$"
      ],
      "text/plain": [
       "Matrix([\n",
       "[1],\n",
       "[1]])"
      ]
     },
     "execution_count": 702,
     "metadata": {},
     "output_type": "execute_result"
    }
   ],
   "source": [
    "B_jordan"
   ]
  },
  {
   "cell_type": "code",
   "execution_count": 703,
   "metadata": {},
   "outputs": [
    {
     "data": {
      "text/latex": [
       "$\\displaystyle \\left[\\begin{matrix}-2 & 2\\end{matrix}\\right]$"
      ],
      "text/plain": [
       "Matrix([[-2, 2]])"
      ]
     },
     "execution_count": 703,
     "metadata": {},
     "output_type": "execute_result"
    }
   ],
   "source": [
    "C_jordan"
   ]
  },
  {
   "cell_type": "markdown",
   "metadata": {},
   "source": [
    "# Solucion del modelo\n",
    "En esta fase, realizaremos el analisis de la estabilidad, controlabilidad y observabilidad del sistema.\n",
    "## Laplace\n",
    "Si bien ya hemos mostrado anteriormente cual es la transformada de Laplace de nuestro sistema, volvemos a revisarla para hacer un analisis mas exaustivo."
   ]
  },
  {
   "cell_type": "code",
   "execution_count": 704,
   "metadata": {},
   "outputs": [
    {
     "data": {
      "text/latex": [
       "$\\displaystyle \\frac{2.0}{s^{2} + 3.0 s + 2.0}$"
      ],
      "text/plain": [
       "TransferFunction(2.0, s**2 + 3.0*s + 2.0, s)"
      ]
     },
     "execution_count": 704,
     "metadata": {},
     "output_type": "execute_result"
    }
   ],
   "source": [
    "tf"
   ]
  },
  {
   "cell_type": "markdown",
   "metadata": {},
   "source": [
    "### Ceros y polos del sistema\n",
    "A simple vista, podemos observar que nuestro sistema no tiene ceros, sin embargo para dejar ejemplificado como se buscarian, adjuntamos el desarrollo aqui debajo."
   ]
  },
  {
   "cell_type": "code",
   "execution_count": 705,
   "metadata": {},
   "outputs": [
    {
     "data": {
      "text/plain": [
       "[]"
      ]
     },
     "execution_count": 705,
     "metadata": {},
     "output_type": "execute_result"
    }
   ],
   "source": [
    "tf.zeros()"
   ]
  },
  {
   "cell_type": "code",
   "execution_count": 706,
   "metadata": {},
   "outputs": [
    {
     "data": {
      "text/plain": [
       "[-2.00000000000000, -1.00000000000000]"
      ]
     },
     "execution_count": 706,
     "metadata": {},
     "output_type": "execute_result"
    }
   ],
   "source": [
    "tf.poles()"
   ]
  },
  {
   "cell_type": "markdown",
   "metadata": {},
   "source": [
    "### Tipo del sistema\n",
    "El sistema es de tipo 0, ya que no presenta polos en el origen. "
   ]
  },
  {
   "cell_type": "markdown",
   "metadata": {},
   "source": [
    "## Respuesta del sistema ante diferentes entradas"
   ]
  },
  {
   "cell_type": "markdown",
   "metadata": {},
   "source": [
    "### Escalon"
   ]
  },
  {
   "cell_type": "code",
   "execution_count": 707,
   "metadata": {},
   "outputs": [],
   "source": [
    "t = sympy.symbols(\"t\", positive=True) # Time var\n",
    "TEMPERATURE = 50 # Temperature in Celsius"
   ]
  },
  {
   "cell_type": "code",
   "execution_count": 708,
   "metadata": {},
   "outputs": [
    {
     "data": {
      "text/latex": [
       "$\\displaystyle 50.0 + 50.0 e^{- 2.0 t} - 100.0 e^{- 1.0 t}$"
      ],
      "text/plain": [
       "50.0 + 50.0*exp(-2.0*t) - 100.0*exp(-1.0*t)"
      ]
     },
     "execution_count": 708,
     "metadata": {},
     "output_type": "execute_result"
    }
   ],
   "source": [
    "laplace_step = TEMPERATURE/s # Laplace transform of the step function\n",
    "step = sympy.inverse_laplace_transform(tf.to_expr() * laplace_step, s, t)\n",
    "step"
   ]
  },
  {
   "cell_type": "code",
   "execution_count": 709,
   "metadata": {},
   "outputs": [
    {
     "data": {
      "image/png": "[encoded data removed]",
      "text/plain": [
       "<Figure size 640x480 with 1 Axes>"
      ]
     },
     "metadata": {},
     "output_type": "display_data"
    },
    {
     "data": {
      "text/plain": [
       "<sympy.plotting.plot.Plot at 0x7fb9568c4510>"
      ]
     },
     "execution_count": 709,
     "metadata": {},
     "output_type": "execute_result"
    }
   ],
   "source": [
    "sympy.plot(step, (t, 0, 10), title=\"Step response\")"
   ]
  },
  {
   "cell_type": "markdown",
   "metadata": {},
   "source": [
    "### Rampa"
   ]
  },
  {
   "cell_type": "code",
   "execution_count": 710,
   "metadata": {},
   "outputs": [
    {
     "data": {
      "text/latex": [
       "$\\displaystyle 50.0 t - 75.0 - 25.0 e^{- 2.0 t} + 100.0 e^{- 1.0 t}$"
      ],
      "text/plain": [
       "50.0*t - 75.0 - 25.0*exp(-2.0*t) + 100.0*exp(-1.0*t)"
      ]
     },
     "execution_count": 710,
     "metadata": {},
     "output_type": "execute_result"
    }
   ],
   "source": [
    "laplace_ramp = TEMPERATURE/s**2 # Laplace transform of the ramp function\n",
    "ramp = sympy.inverse_laplace_transform(tf.to_expr() * laplace_ramp, s, t)\n",
    "ramp"
   ]
  },
  {
   "cell_type": "code",
   "execution_count": 711,
   "metadata": {},
   "outputs": [
    {
     "data": {
      "image/png": "[encoded data removed]",
      "text/plain": [
       "<Figure size 640x480 with 1 Axes>"
      ]
     },
     "metadata": {},
     "output_type": "display_data"
    },
    {
     "data": {
      "text/plain": [
       "<sympy.plotting.plot.Plot at 0x7fb9563957d0>"
      ]
     },
     "execution_count": 711,
     "metadata": {},
     "output_type": "execute_result"
    }
   ],
   "source": [
    "sympy.plot(ramp, (t, 0, 10), title=\"Ramp response\")"
   ]
  },
  {
   "cell_type": "markdown",
   "metadata": {},
   "source": [
    "### Parabola"
   ]
  },
  {
   "cell_type": "code",
   "execution_count": 712,
   "metadata": {},
   "outputs": [
    {
     "data": {
      "text/latex": [
       "$\\displaystyle 25.0 t^{2} - 75.0 t + 87.5 + 12.5 e^{- 2.0 t} - 100.0 e^{- 1.0 t}$"
      ],
      "text/plain": [
       "25.0*t**2 - 75.0*t + 87.5 + 12.5*exp(-2.0*t) - 100.0*exp(-1.0*t)"
      ]
     },
     "execution_count": 712,
     "metadata": {},
     "output_type": "execute_result"
    }
   ],
   "source": [
    "laplace_quadratic = TEMPERATURE/s**3 # Laplace transform of the quadratic function\n",
    "quadratic = sympy.inverse_laplace_transform(tf.to_expr() * laplace_quadratic, s, t)\n",
    "quadratic"
   ]
  },
  {
   "cell_type": "code",
   "execution_count": 713,
   "metadata": {},
   "outputs": [
    {
     "data": {
      "image/png": "[encoded data removed]",
      "text/plain": [
       "<Figure size 640x480 with 1 Axes>"
      ]
     },
     "metadata": {},
     "output_type": "display_data"
    },
    {
     "data": {
      "text/plain": [
       "<sympy.plotting.plot.Plot at 0x7fb955ea50d0>"
      ]
     },
     "execution_count": 713,
     "metadata": {},
     "output_type": "execute_result"
    }
   ],
   "source": [
    "sympy.plot(quadratic, (t, 0, 20), title=\"Quadratic response\")"
   ]
  },
  {
   "cell_type": "markdown",
   "metadata": {},
   "source": [
    "### Conclusion\n",
    "Como podiamos llegar a anticipar, es conveniente utilizar la funcion escalon, con la temperatura deseada por el usuario a fin de estabilizar el sistema para dicha temperatura, el resto de entradas, nos dan una respuesta que tiende a infinito, haciendo el sistema completamente inestable.  "
   ]
  },
  {
   "cell_type": "markdown",
   "metadata": {},
   "source": [
    "## Plano de fase y trayectorias\n",
    "### Plano de fase\n"
   ]
  },
  {
   "cell_type": "code",
   "execution_count": 714,
   "metadata": {},
   "outputs": [],
   "source": [
    "phases_matrix = sympy.Matrix([s*sympy.eye(A.shape[0]) - A]).inv()\n",
    "phases_matrix = sympy.inverse_laplace_transform(phases_matrix, s, t)\n",
    "phases_matrix\n",
    "x_1_0 = 2\n",
    "x_2_0 = 2\n",
    "x_0 = sympy.Matrix([x_1_0, x_2_0])\n",
    "phase_x = phases_matrix @ x_0"
   ]
  },
  {
   "cell_type": "code",
   "execution_count": 715,
   "metadata": {},
   "outputs": [
    {
     "data": {
      "text/latex": [
       "$\\displaystyle \\left[\\begin{matrix}2 \\cdot \\left(2 e^{t} - 2\\right) e^{- 2 t} + 2 e^{- t}\\\\2 e^{- 2 t}\\end{matrix}\\right]$"
      ],
      "text/plain": [
       "Matrix([\n",
       "[2*(2*exp(t) - 2)*exp(-2*t) + 2*exp(-t)],\n",
       "[                           2*exp(-2*t)]])"
      ]
     },
     "execution_count": 715,
     "metadata": {},
     "output_type": "execute_result"
    }
   ],
   "source": [
    "phase_x"
   ]
  },
  {
   "cell_type": "code",
   "execution_count": 716,
   "metadata": {},
   "outputs": [
    {
     "data": {
      "image/png": "[encoded data removed]",
      "text/plain": [
       "<Figure size 640x480 with 1 Axes>"
      ]
     },
     "metadata": {},
     "output_type": "display_data"
    }
   ],
   "source": [
    "def getArrayPhase(phase, time):\n",
    "    \"\"\"\n",
    "    Convert sympy expression to numpy array :D\n",
    "    \"\"\"\n",
    "    return np.array([phase.subs({t:t_i}) for t_i in time])\n",
    "def plot_phases(phase_1, phase_2):\n",
    "    \"\"\"\n",
    "    Plot the phases diagram\n",
    "    \"\"\"\n",
    "    plt.plot(phase_1, phase_2)\n",
    "    plt.xlabel(\"Phase 1\")\n",
    "    plt.ylabel(\"Phase 2\")\n",
    "    plt.title(\"Phases diagram\")\n",
    "    plt.arrow(float(phase_1[-1]), \n",
    "              float(phase_2[-1]),\n",
    "              float(phase_1[-1]-phase_1[-2]) ,\n",
    "              float(phase_2[-1]-phase_2[-2]), \n",
    "              head_width=0.1, \n",
    "              head_length=0.2,\n",
    "              length_includes_head=True)\n",
    "    plt.grid()\n",
    "    plt.show()\n",
    "\n",
    "phase_x1 = getArrayPhase(phase_x[0], np.linspace(0, 10, 100))\n",
    "phase_x2 = getArrayPhase(phase_x[1], np.linspace(0, 10, 100))\n",
    "plot_phases(phase_x1, phase_x2)\n"
   ]
  },
  {
   "cell_type": "markdown",
   "metadata": {},
   "source": [
    "### Grafica de trayectorias"
   ]
  },
  {
   "cell_type": "code",
   "execution_count": 717,
   "metadata": {},
   "outputs": [
    {
     "data": {
      "image/png": "[encoded data removed]",
      "text/plain": [
       "<Figure size 640x480 with 1 Axes>"
      ]
     },
     "metadata": {},
     "output_type": "display_data"
    },
    {
     "data": {
      "text/plain": [
       "<sympy.plotting.plot.Plot at 0x7fb9568a1510>"
      ]
     },
     "execution_count": 717,
     "metadata": {},
     "output_type": "execute_result"
    }
   ],
   "source": [
    "sympy.plot(phase_x[0],phase_x[1], (t, 0, 10), title=\"Phases diagram\")"
   ]
  },
  {
   "cell_type": "markdown",
   "metadata": {},
   "source": [
    "### Conclusion\n",
    "Como podemos observar, tanto las trayectorias individuales, como el plano de fase, nos brindan informacion suficiente como para concluir que el sistema es estable "
   ]
  },
  {
   "cell_type": "markdown",
   "metadata": {},
   "source": [
    "## Diagrama de lugar de raices\n"
   ]
  },
  {
   "cell_type": "code",
   "execution_count": 718,
   "metadata": {},
   "outputs": [
    {
     "data": {
      "image/png": "[encoded data removed]",
      "text/plain": [
       "<Figure size 640x480 with 1 Axes>"
      ]
     },
     "metadata": {},
     "output_type": "display_data"
    }
   ],
   "source": [
    "def plotRoots(roots:np.array):\n",
    "    \"\"\"\n",
    "    Plot the roots\n",
    "    \"\"\"\n",
    "    plt.scatter(np.real(roots), \n",
    "                np.imag(roots),\n",
    "                s=100,\n",
    "                alpha=0.4)\n",
    "    plt.xlabel(\"Real\")\n",
    "    plt.ylabel(\"Imaginary\")\n",
    "    plt.title(\"Roots diagram\")\n",
    "    plt.xlim(-3,1)\n",
    "    plt.axhline(y=0, color='k')\n",
    "    plt.axvline(x=0, color='k')\n",
    "    plt.grid(linewidth=0.1)\n",
    "    plt.show()\n",
    "plotRoots(tf.poles())"
   ]
  },
  {
   "cell_type": "markdown",
   "metadata": {},
   "source": [
    "#### Analizando con entrada escalon:"
   ]
  },
  {
   "cell_type": "code",
   "execution_count": 719,
   "metadata": {},
   "outputs": [
    {
     "data": {
      "image/png": "[encoded data removed]",
      "text/plain": [
       "<Figure size 640x480 with 1 Axes>"
      ]
     },
     "metadata": {},
     "output_type": "display_data"
    }
   ],
   "source": [
    "poles_step = TransferFunction(s,s,s).from_rational_expression(tf.to_expr()*laplace_step).poles()\n",
    "plotRoots(poles_step)"
   ]
  },
  {
   "cell_type": "markdown",
   "metadata": {},
   "source": [
    "#### Analizando con entrada rampa"
   ]
  },
  {
   "cell_type": "code",
   "execution_count": 720,
   "metadata": {},
   "outputs": [
    {
     "data": {
      "image/png": "[encoded data removed]",
      "text/plain": [
       "<Figure size 640x480 with 1 Axes>"
      ]
     },
     "metadata": {},
     "output_type": "display_data"
    }
   ],
   "source": [
    "poles_ramp = TransferFunction(s,s,s).from_rational_expression(tf.to_expr()*laplace_ramp).poles()\n",
    "plotRoots(poles_ramp)"
   ]
  },
  {
   "cell_type": "markdown",
   "metadata": {},
   "source": [
    "### Analizando con entrada parabola"
   ]
  },
  {
   "cell_type": "code",
   "execution_count": 721,
   "metadata": {},
   "outputs": [
    {
     "data": {
      "image/png": "[encoded data removed]",
      "text/plain": [
       "<Figure size 640x480 with 1 Axes>"
      ]
     },
     "metadata": {},
     "output_type": "display_data"
    }
   ],
   "source": [
    "poles_quadratic = TransferFunction(s,s,s).from_rational_expression(tf.to_expr()*laplace_quadratic).poles()\n",
    "plotRoots(poles_quadratic)"
   ]
  },
  {
   "cell_type": "markdown",
   "metadata": {},
   "source": [
    "### Conclusion\n",
    "Como podemos observar, el sistema es estable (y criticamente estable) solamente en la funcion de transferencia y con la entrada escalon.\n",
    "\n",
    "Por su parte, al tener repeticion de polos en el origen (simbolizados con mayor oscuridad), las entradas rampa y parabola generan respuestas absolutamente inestables. "
   ]
  },
  {
   "cell_type": "markdown",
   "metadata": {},
   "source": [
    "## Analisis de estabilidad segun Ruth Hurwitz\n"
   ]
  }
 ],
 "metadata": {
  "kernelspec": {
   "display_name": "Python 3",
   "language": "python",
   "name": "python3"
  },
  "language_info": {
   "codemirror_mode": {
    "name": "ipython",
    "version": 3
   },
   "file_extension": ".py",
   "mimetype": "text/x-python",
   "name": "python",
   "nbconvert_exporter": "python",
   "pygments_lexer": "ipython3",
   "version": "3.11.5"
  },
  "orig_nbformat": 4
 },
 "nbformat": 4,
 "nbformat_minor": 2
}
